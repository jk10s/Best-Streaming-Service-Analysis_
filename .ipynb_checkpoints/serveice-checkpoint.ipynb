{
 "cells": [
  {
   "cell_type": "code",
   "execution_count": null,
   "id": "b682aeb7",
   "metadata": {},
   "outputs": [],
   "source": [
    "tv_shows.drop_duplicates(subset='Title',\n",
    "                         keep='first',inplace=True)"
   ]
  }
 ],
 "metadata": {
  "kernelspec": {
   "display_name": "Python 3 (ipykernel)",
   "language": "python",
   "name": "python3"
  },
  "language_info": {
   "codemirror_mode": {
    "name": "ipython",
    "version": 3
   },
   "file_extension": ".py",
   "mimetype": "text/x-python",
   "name": "python",
   "nbconvert_exporter": "python",
   "pygments_lexer": "ipython3",
   "version": "3.9.12"
  }
 },
 "nbformat": 4,
 "nbformat_minor": 5
}
